{
 "cells": [
  {
   "cell_type": "code",
   "execution_count": 1,
   "metadata": {},
   "outputs": [],
   "source": [
    "from scipy.io import arff\n",
    "import pandas as pd\n",
    "\n",
    "path = '../../dados/Phishing_Legitimate_full.arff'\n",
    "data = arff.loadarff(path)\n",
    "df = pd.DataFrame(data[0])"
   ]
  },
  {
   "cell_type": "code",
   "execution_count": 2,
   "metadata": {},
   "outputs": [],
   "source": [
    "df['CLASS_LABEL'] = df['CLASS_LABEL'].astype(int)\n",
    "columList = df.columns"
   ]
  },
  {
   "cell_type": "code",
   "execution_count": 3,
   "metadata": {},
   "outputs": [
    {
     "data": {
      "text/html": [
       "<div>\n",
       "<style scoped>\n",
       "    .dataframe tbody tr th:only-of-type {\n",
       "        vertical-align: middle;\n",
       "    }\n",
       "\n",
       "    .dataframe tbody tr th {\n",
       "        vertical-align: top;\n",
       "    }\n",
       "\n",
       "    .dataframe thead th {\n",
       "        text-align: right;\n",
       "    }\n",
       "</style>\n",
       "<table border=\"1\" class=\"dataframe\">\n",
       "  <thead>\n",
       "    <tr style=\"text-align: right;\">\n",
       "      <th></th>\n",
       "      <th>NumDots</th>\n",
       "      <th>SubdomainLevel</th>\n",
       "      <th>PathLevel</th>\n",
       "      <th>UrlLength</th>\n",
       "      <th>NumDash</th>\n",
       "      <th>NumDashInHostname</th>\n",
       "      <th>AtSymbol</th>\n",
       "      <th>TildeSymbol</th>\n",
       "      <th>NumUnderscore</th>\n",
       "      <th>NumPercent</th>\n",
       "      <th>...</th>\n",
       "      <th>IframeOrFrame</th>\n",
       "      <th>MissingTitle</th>\n",
       "      <th>ImagesOnlyInForm</th>\n",
       "      <th>SubdomainLevelRT</th>\n",
       "      <th>UrlLengthRT</th>\n",
       "      <th>PctExtResourceUrlsRT</th>\n",
       "      <th>AbnormalExtFormActionR</th>\n",
       "      <th>ExtMetaScriptLinkRT</th>\n",
       "      <th>PctExtNullSelfRedirectHyperlinksRT</th>\n",
       "      <th>CLASS_LABEL</th>\n",
       "    </tr>\n",
       "  </thead>\n",
       "  <tbody>\n",
       "    <tr>\n",
       "      <th>0</th>\n",
       "      <td>3.0</td>\n",
       "      <td>1.0</td>\n",
       "      <td>5.0</td>\n",
       "      <td>72.0</td>\n",
       "      <td>0.0</td>\n",
       "      <td>0.0</td>\n",
       "      <td>0.0</td>\n",
       "      <td>0.0</td>\n",
       "      <td>0.0</td>\n",
       "      <td>0.0</td>\n",
       "      <td>...</td>\n",
       "      <td>0.0</td>\n",
       "      <td>0.0</td>\n",
       "      <td>1.0</td>\n",
       "      <td>1.0</td>\n",
       "      <td>0.0</td>\n",
       "      <td>1.0</td>\n",
       "      <td>1.0</td>\n",
       "      <td>-1.0</td>\n",
       "      <td>1.0</td>\n",
       "      <td>1</td>\n",
       "    </tr>\n",
       "    <tr>\n",
       "      <th>1</th>\n",
       "      <td>3.0</td>\n",
       "      <td>1.0</td>\n",
       "      <td>3.0</td>\n",
       "      <td>144.0</td>\n",
       "      <td>0.0</td>\n",
       "      <td>0.0</td>\n",
       "      <td>0.0</td>\n",
       "      <td>0.0</td>\n",
       "      <td>2.0</td>\n",
       "      <td>0.0</td>\n",
       "      <td>...</td>\n",
       "      <td>0.0</td>\n",
       "      <td>0.0</td>\n",
       "      <td>0.0</td>\n",
       "      <td>1.0</td>\n",
       "      <td>-1.0</td>\n",
       "      <td>1.0</td>\n",
       "      <td>1.0</td>\n",
       "      <td>1.0</td>\n",
       "      <td>1.0</td>\n",
       "      <td>1</td>\n",
       "    </tr>\n",
       "    <tr>\n",
       "      <th>2</th>\n",
       "      <td>3.0</td>\n",
       "      <td>1.0</td>\n",
       "      <td>2.0</td>\n",
       "      <td>58.0</td>\n",
       "      <td>0.0</td>\n",
       "      <td>0.0</td>\n",
       "      <td>0.0</td>\n",
       "      <td>0.0</td>\n",
       "      <td>0.0</td>\n",
       "      <td>0.0</td>\n",
       "      <td>...</td>\n",
       "      <td>0.0</td>\n",
       "      <td>0.0</td>\n",
       "      <td>0.0</td>\n",
       "      <td>1.0</td>\n",
       "      <td>0.0</td>\n",
       "      <td>-1.0</td>\n",
       "      <td>1.0</td>\n",
       "      <td>-1.0</td>\n",
       "      <td>0.0</td>\n",
       "      <td>1</td>\n",
       "    </tr>\n",
       "    <tr>\n",
       "      <th>3</th>\n",
       "      <td>3.0</td>\n",
       "      <td>1.0</td>\n",
       "      <td>6.0</td>\n",
       "      <td>79.0</td>\n",
       "      <td>1.0</td>\n",
       "      <td>0.0</td>\n",
       "      <td>0.0</td>\n",
       "      <td>0.0</td>\n",
       "      <td>0.0</td>\n",
       "      <td>0.0</td>\n",
       "      <td>...</td>\n",
       "      <td>0.0</td>\n",
       "      <td>0.0</td>\n",
       "      <td>0.0</td>\n",
       "      <td>1.0</td>\n",
       "      <td>-1.0</td>\n",
       "      <td>1.0</td>\n",
       "      <td>1.0</td>\n",
       "      <td>1.0</td>\n",
       "      <td>-1.0</td>\n",
       "      <td>1</td>\n",
       "    </tr>\n",
       "    <tr>\n",
       "      <th>4</th>\n",
       "      <td>3.0</td>\n",
       "      <td>0.0</td>\n",
       "      <td>4.0</td>\n",
       "      <td>46.0</td>\n",
       "      <td>0.0</td>\n",
       "      <td>0.0</td>\n",
       "      <td>0.0</td>\n",
       "      <td>0.0</td>\n",
       "      <td>0.0</td>\n",
       "      <td>0.0</td>\n",
       "      <td>...</td>\n",
       "      <td>1.0</td>\n",
       "      <td>0.0</td>\n",
       "      <td>0.0</td>\n",
       "      <td>1.0</td>\n",
       "      <td>1.0</td>\n",
       "      <td>-1.0</td>\n",
       "      <td>0.0</td>\n",
       "      <td>-1.0</td>\n",
       "      <td>-1.0</td>\n",
       "      <td>1</td>\n",
       "    </tr>\n",
       "  </tbody>\n",
       "</table>\n",
       "<p>5 rows × 49 columns</p>\n",
       "</div>"
      ],
      "text/plain": [
       "   NumDots  SubdomainLevel  PathLevel  UrlLength  NumDash  NumDashInHostname  \\\n",
       "0      3.0             1.0        5.0       72.0      0.0                0.0   \n",
       "1      3.0             1.0        3.0      144.0      0.0                0.0   \n",
       "2      3.0             1.0        2.0       58.0      0.0                0.0   \n",
       "3      3.0             1.0        6.0       79.0      1.0                0.0   \n",
       "4      3.0             0.0        4.0       46.0      0.0                0.0   \n",
       "\n",
       "   AtSymbol  TildeSymbol  NumUnderscore  NumPercent  ...  IframeOrFrame  \\\n",
       "0       0.0          0.0            0.0         0.0  ...            0.0   \n",
       "1       0.0          0.0            2.0         0.0  ...            0.0   \n",
       "2       0.0          0.0            0.0         0.0  ...            0.0   \n",
       "3       0.0          0.0            0.0         0.0  ...            0.0   \n",
       "4       0.0          0.0            0.0         0.0  ...            1.0   \n",
       "\n",
       "   MissingTitle  ImagesOnlyInForm  SubdomainLevelRT  UrlLengthRT  \\\n",
       "0           0.0               1.0               1.0          0.0   \n",
       "1           0.0               0.0               1.0         -1.0   \n",
       "2           0.0               0.0               1.0          0.0   \n",
       "3           0.0               0.0               1.0         -1.0   \n",
       "4           0.0               0.0               1.0          1.0   \n",
       "\n",
       "   PctExtResourceUrlsRT  AbnormalExtFormActionR  ExtMetaScriptLinkRT  \\\n",
       "0                   1.0                     1.0                 -1.0   \n",
       "1                   1.0                     1.0                  1.0   \n",
       "2                  -1.0                     1.0                 -1.0   \n",
       "3                   1.0                     1.0                  1.0   \n",
       "4                  -1.0                     0.0                 -1.0   \n",
       "\n",
       "   PctExtNullSelfRedirectHyperlinksRT  CLASS_LABEL  \n",
       "0                                 1.0            1  \n",
       "1                                 1.0            1  \n",
       "2                                 0.0            1  \n",
       "3                                -1.0            1  \n",
       "4                                -1.0            1  \n",
       "\n",
       "[5 rows x 49 columns]"
      ]
     },
     "execution_count": 3,
     "metadata": {},
     "output_type": "execute_result"
    }
   ],
   "source": [
    "df.head()"
   ]
  },
  {
   "cell_type": "code",
   "execution_count": 4,
   "metadata": {},
   "outputs": [
    {
     "data": {
      "text/plain": [
       "<matplotlib.colorbar.Colorbar at 0x7fb13b47b358>"
      ]
     },
     "execution_count": 4,
     "metadata": {},
     "output_type": "execute_result"
    }
   ],
   "source": [
    "# PRINTANDO A MATRIZ DE CORRELAÇÃO\n",
    "import matplotlib.pyplot as plt\n",
    "import numpy as np\n",
    "\n",
    "#lista = list()\n",
    "#for i in range(0,len(df.columns)):\n",
    "#    lista.append(str(i+1) + ' - ' + df.columns[i])\n",
    "#df.columns = lista\n",
    "\n",
    "plt.figure(figsize=(26,19))\n",
    "plt.rcParams.update({'font.size': 15})\n",
    "\n",
    "plt.matshow(df.corr(), fignum=1)\n",
    "plt.xticks(np.arange(0, len(df.columns), step = 1))\n",
    "plt.yticks(range(len(df.columns)), df.columns)\n",
    "plt.colorbar()\n",
    "\n",
    "#plt.savefig('corrMatriz.png')"
   ]
  },
  {
   "cell_type": "code",
   "execution_count": 5,
   "metadata": {},
   "outputs": [],
   "source": [
    "from sklearn.model_selection import train_test_split\n",
    "\n",
    "X = df.drop('CLASS_LABEL',axis=1)\n",
    "Y = df['CLASS_LABEL']\n",
    "\n",
    "xTrain, xTest, yTrain, yTest = train_test_split(X, Y, test_size = 0.2, random_state = 0)"
   ]
  },
  {
   "cell_type": "code",
   "execution_count": 32,
   "metadata": {},
   "outputs": [
    {
     "name": "stdout",
     "output_type": "stream",
     "text": [
      "5000\n"
     ]
    },
    {
     "data": {
      "image/png": "[encoded data removed]",
      "text/plain": [
       "<Figure size 504x504 with 1 Axes>"
      ]
     },
     "metadata": {
      "needs_background": "light"
     },
     "output_type": "display_data"
    }
   ],
   "source": [
    "import matplotlib.pyplot as plt\n",
    "countClass1 = 0\n",
    "countClass2 = 0\n",
    "\n",
    "for y in Y:\n",
    "    if(y == 1):\n",
    "        countClass1 += 1\n",
    "    else:\n",
    "        countClass2 += 1\n",
    "        \n",
    "print(countClass1)\n",
    "plt.figure(figsize=(7, 7))\n",
    "plt.rcParams.update({'font.size': 20})\n",
    "\n",
    "plt.bar(['Phishing True', 'Phishing False'], [countClass1, countClass2], align='center', color=\"blue\")\n",
    "plt.xlabel(\"Instancias\")\n",
    "plt.ylabel(\"Classes target\")\n",
    "\n",
    "plt.show()"
   ]
  },
  {
   "cell_type": "code",
   "execution_count": 8,
   "metadata": {},
   "outputs": [],
   "source": []
  },
  {
   "cell_type": "code",
   "execution_count": 132,
   "metadata": {},
   "outputs": [],
   "source": [
    "from sklearn.ensemble import GradientBoostingRegressor\n",
    "\n",
    "gbr = GradientBoostingRegressor(n_estimators=100, learning_rate=0.2)\n",
    "#y_pred_gbr = cross_val_score(gbr, X, Y, scoring='accuracy', cv=5\n",
    "gbr.fit(xTrain, yTrain)\n",
    "y_predict_rfc = gbr.predict(xTest)\n",
    "for i in range(len(y_predict_rfc)):\n",
    "    if(y_predict_rfc[i] > 0.5):\n",
    "        y_predict_rfc[i] = 1.0\n",
    "    else:\n",
    "        y_predict_rfc[i] = 0.0\n",
    "\n",
    "\n"
   ]
  },
  {
   "cell_type": "code",
   "execution_count": 134,
   "metadata": {},
   "outputs": [
    {
     "data": {
      "text/plain": [
       "0.964"
      ]
     },
     "execution_count": 134,
     "metadata": {},
     "output_type": "execute_result"
    }
   ],
   "source": [
    "accuracy_score( y_predict_rfc, yTest, normalize=True)\n"
   ]
  },
  {
   "cell_type": "code",
   "execution_count": 11,
   "metadata": {},
   "outputs": [
    {
     "data": {
      "text/plain": [
       "array([1, 1, 1, ..., 0, 0, 0])"
      ]
     },
     "execution_count": 11,
     "metadata": {},
     "output_type": "execute_result"
    }
   ],
   "source": [
    "from sklearn.metrics import accuracy_score\n",
    "from sklearn.model_selection import cross_val_score, cross_validate, cross_val_predict\n",
    "from sklearn.ensemble import RandomForestClassifier\n",
    "\n",
    "rfc = RandomForestClassifier(n_estimators = 100, criterion = 'entropy')\n",
    "y_pred_rfc = cross_val_predict(rfc, X, Y, cv=5)\n",
    "y_pred_rfc"
   ]
  },
  {
   "cell_type": "code",
   "execution_count": 9,
   "metadata": {},
   "outputs": [
    {
     "name": "stdout",
     "output_type": "stream",
     "text": [
      "Acuraccy 0.9737\n",
      "Roc_auc_score 0.9737659671732692\n",
      "F1-score 0.9735439090634744\n",
      "Recall 0.9793564055859137\n",
      "Precision 0.9678\n",
      "(0.9737, 0.9737659671732692, 0.9735439090634744, 0.9793564055859137, 0.9678, array([4898,  102,  161, 4839]))\n",
      "[4898  102  161 4839]\n"
     ]
    }
   ],
   "source": [
    "from sklearn.metrics import classification_report, roc_auc_score, precision_score, accuracy_score,recall_score, f1_score, confusion_matrix\n",
    "\n",
    "\n",
    "def calculateMetrics(y_pred, Y):\n",
    "    return (accuracy_score(y_pred, Y), roc_auc_score(y_pred, Y),\n",
    "            f1_score(y_pred, Y), recall_score(y_pred, Y),precision_score(y_pred, Y),\n",
    "           confusion_matrix(Y, y_pred_rfc).ravel())\n",
    "\n",
    "print('Acuraccy', accuracy_score(y_pred_rfc, Y))\n",
    "print('Roc_auc_score', roc_auc_score(y_pred_rfc, Y))\n",
    "print('F1-score', f1_score(y_pred_rfc, Y))\n",
    "print('Recall', recall_score(y_pred_rfc, Y))\n",
    "print('Precision', precision_score(y_pred_rfc, Y))\n",
    "\n",
    "metrics = calculateMetrics(y_pred_rfc, Y)\n",
    "print(metrics)\n",
    "print(confusion_matrix(Y, y_pred_rfc).ravel()) #tn, fp, fn, tp"
   ]
  },
  {
   "cell_type": "code",
   "execution_count": 58,
   "metadata": {},
   "outputs": [
    {
     "data": {
      "text/plain": [
       "RandomForestRegressor(bootstrap=True, criterion='mse', max_depth=2,\n",
       "           max_features='auto', max_leaf_nodes=None,\n",
       "           min_impurity_decrease=0.0, min_impurity_split=None,\n",
       "           min_samples_leaf=1, min_samples_split=2,\n",
       "           min_weight_fraction_leaf=0.0, n_estimators=100, n_jobs=None,\n",
       "           oob_score=False, random_state=0, verbose=0, warm_start=False)"
      ]
     },
     "execution_count": 58,
     "metadata": {},
     "output_type": "execute_result"
    }
   ],
   "source": [
    "from sklearn.ensemble import RandomForestRegressor\n",
    "regr = RandomForestRegressor(max_depth=2, random_state=0, n_estimators=100)\n",
    "regr.fit(X.astype(float), Y.astype(float))\n"
   ]
  },
  {
   "cell_type": "code",
   "execution_count": 20,
   "metadata": {},
   "outputs": [
    {
     "data": {
      "text/plain": [
       "array([0.00000000e+00, 0.00000000e+00, 0.00000000e+00, 0.00000000e+00,\n",
       "       8.29305253e-03, 0.00000000e+00, 0.00000000e+00, 0.00000000e+00,\n",
       "       8.64861988e-05, 0.00000000e+00, 0.00000000e+00, 0.00000000e+00,\n",
       "       0.00000000e+00, 0.00000000e+00, 0.00000000e+00, 0.00000000e+00,\n",
       "       0.00000000e+00, 0.00000000e+00, 0.00000000e+00, 0.00000000e+00,\n",
       "       0.00000000e+00, 0.00000000e+00, 0.00000000e+00, 0.00000000e+00,\n",
       "       0.00000000e+00, 0.00000000e+00, 4.99005776e-01, 0.00000000e+00,\n",
       "       0.00000000e+00, 1.80332424e-04, 0.00000000e+00, 0.00000000e+00,\n",
       "       0.00000000e+00, 0.00000000e+00, 0.00000000e+00, 0.00000000e+00,\n",
       "       0.00000000e+00, 0.00000000e+00, 2.10131707e-03, 0.00000000e+00,\n",
       "       0.00000000e+00, 0.00000000e+00, 0.00000000e+00, 0.00000000e+00,\n",
       "       0.00000000e+00, 0.00000000e+00, 0.00000000e+00, 4.90333035e-01])"
      ]
     },
     "execution_count": 20,
     "metadata": {},
     "output_type": "execute_result"
    }
   ],
   "source": [
    "regr.feature_importances_"
   ]
  },
  {
   "cell_type": "code",
   "execution_count": 12,
   "metadata": {},
   "outputs": [
    {
     "ename": "NotFittedError",
     "evalue": "This RandomForestClassifier instance is not fitted yet. Call 'fit' with appropriate arguments before using this method.",
     "output_type": "error",
     "traceback": [
      "\u001b[0;31m---------------------------------------------------------------------------\u001b[0m",
      "\u001b[0;31mNotFittedError\u001b[0m                            Traceback (most recent call last)",
      "\u001b[0;32m<ipython-input-12-47d4b6fa4468>\u001b[0m in \u001b[0;36m<module>\u001b[0;34m\u001b[0m\n\u001b[0;32m----> 1\u001b[0;31m \u001b[0mrfc\u001b[0m\u001b[0;34m.\u001b[0m\u001b[0mfeature_importances_\u001b[0m\u001b[0;34m\u001b[0m\u001b[0;34m\u001b[0m\u001b[0m\n\u001b[0m",
      "\u001b[0;32m~/anaconda3/lib/python3.7/site-packages/sklearn/ensemble/forest.py\u001b[0m in \u001b[0;36mfeature_importances_\u001b[0;34m(self)\u001b[0m\n\u001b[1;32m    371\u001b[0m         \u001b[0mfeature_importances_\u001b[0m \u001b[0;34m:\u001b[0m \u001b[0marray\u001b[0m\u001b[0;34m,\u001b[0m \u001b[0mshape\u001b[0m \u001b[0;34m=\u001b[0m \u001b[0;34m[\u001b[0m\u001b[0mn_features\u001b[0m\u001b[0;34m]\u001b[0m\u001b[0;34m\u001b[0m\u001b[0;34m\u001b[0m\u001b[0m\n\u001b[1;32m    372\u001b[0m         \"\"\"\n\u001b[0;32m--> 373\u001b[0;31m         \u001b[0mcheck_is_fitted\u001b[0m\u001b[0;34m(\u001b[0m\u001b[0mself\u001b[0m\u001b[0;34m,\u001b[0m \u001b[0;34m'estimators_'\u001b[0m\u001b[0;34m)\u001b[0m\u001b[0;34m\u001b[0m\u001b[0;34m\u001b[0m\u001b[0m\n\u001b[0m\u001b[1;32m    374\u001b[0m \u001b[0;34m\u001b[0m\u001b[0m\n\u001b[1;32m    375\u001b[0m         all_importances = Parallel(n_jobs=self.n_jobs,\n",
      "\u001b[0;32m~/anaconda3/lib/python3.7/site-packages/sklearn/utils/validation.py\u001b[0m in \u001b[0;36mcheck_is_fitted\u001b[0;34m(estimator, attributes, msg, all_or_any)\u001b[0m\n\u001b[1;32m    949\u001b[0m \u001b[0;34m\u001b[0m\u001b[0m\n\u001b[1;32m    950\u001b[0m     \u001b[0;32mif\u001b[0m \u001b[0;32mnot\u001b[0m \u001b[0mall_or_any\u001b[0m\u001b[0;34m(\u001b[0m\u001b[0;34m[\u001b[0m\u001b[0mhasattr\u001b[0m\u001b[0;34m(\u001b[0m\u001b[0mestimator\u001b[0m\u001b[0;34m,\u001b[0m \u001b[0mattr\u001b[0m\u001b[0;34m)\u001b[0m \u001b[0;32mfor\u001b[0m \u001b[0mattr\u001b[0m \u001b[0;32min\u001b[0m \u001b[0mattributes\u001b[0m\u001b[0;34m]\u001b[0m\u001b[0;34m)\u001b[0m\u001b[0;34m:\u001b[0m\u001b[0;34m\u001b[0m\u001b[0;34m\u001b[0m\u001b[0m\n\u001b[0;32m--> 951\u001b[0;31m         \u001b[0;32mraise\u001b[0m \u001b[0mNotFittedError\u001b[0m\u001b[0;34m(\u001b[0m\u001b[0mmsg\u001b[0m \u001b[0;34m%\u001b[0m \u001b[0;34m{\u001b[0m\u001b[0;34m'name'\u001b[0m\u001b[0;34m:\u001b[0m \u001b[0mtype\u001b[0m\u001b[0;34m(\u001b[0m\u001b[0mestimator\u001b[0m\u001b[0;34m)\u001b[0m\u001b[0;34m.\u001b[0m\u001b[0m__name__\u001b[0m\u001b[0;34m}\u001b[0m\u001b[0;34m)\u001b[0m\u001b[0;34m\u001b[0m\u001b[0;34m\u001b[0m\u001b[0m\n\u001b[0m\u001b[1;32m    952\u001b[0m \u001b[0;34m\u001b[0m\u001b[0m\n\u001b[1;32m    953\u001b[0m \u001b[0;34m\u001b[0m\u001b[0m\n",
      "\u001b[0;31mNotFittedError\u001b[0m: This RandomForestClassifier instance is not fitted yet. Call 'fit' with appropriate arguments before using this method."
     ]
    }
   ],
   "source": [
    "rfc.feature_importances_"
   ]
  },
  {
   "cell_type": "code",
   "execution_count": null,
   "metadata": {},
   "outputs": [],
   "source": []
  },
  {
   "cell_type": "code",
   "execution_count": 10,
   "metadata": {},
   "outputs": [
    {
     "ename": "NotFittedError",
     "evalue": "This RandomForestClassifier instance is not fitted yet. Call 'fit' with appropriate arguments before using this method.",
     "output_type": "error",
     "traceback": [
      "\u001b[0;31m---------------------------------------------------------------------------\u001b[0m",
      "\u001b[0;31mNotFittedError\u001b[0m                            Traceback (most recent call last)",
      "\u001b[0;32m<ipython-input-10-1ffd4764fc6a>\u001b[0m in \u001b[0;36m<module>\u001b[0;34m\u001b[0m\n\u001b[1;32m      2\u001b[0m \u001b[0;34m\u001b[0m\u001b[0m\n\u001b[1;32m      3\u001b[0m \u001b[0mrankListRFC\u001b[0m \u001b[0;34m=\u001b[0m \u001b[0mlist\u001b[0m\u001b[0;34m(\u001b[0m\u001b[0;34m)\u001b[0m\u001b[0;34m\u001b[0m\u001b[0;34m\u001b[0m\u001b[0m\n\u001b[0;32m----> 4\u001b[0;31m \u001b[0mfeaturesImportance\u001b[0m \u001b[0;34m=\u001b[0m \u001b[0mrfc\u001b[0m\u001b[0;34m.\u001b[0m\u001b[0mfeature_importances_\u001b[0m\u001b[0;34m\u001b[0m\u001b[0;34m\u001b[0m\u001b[0m\n\u001b[0m\u001b[1;32m      5\u001b[0m \u001b[0;32mfor\u001b[0m \u001b[0mi\u001b[0m \u001b[0;32min\u001b[0m \u001b[0mrange\u001b[0m\u001b[0;34m(\u001b[0m\u001b[0mlen\u001b[0m\u001b[0;34m(\u001b[0m\u001b[0mfeaturesImportance\u001b[0m\u001b[0;34m)\u001b[0m\u001b[0;34m)\u001b[0m\u001b[0;34m:\u001b[0m\u001b[0;34m\u001b[0m\u001b[0;34m\u001b[0m\u001b[0m\n\u001b[1;32m      6\u001b[0m     \u001b[0mindex\u001b[0m \u001b[0;34m=\u001b[0m \u001b[0mnp\u001b[0m\u001b[0;34m.\u001b[0m\u001b[0margmax\u001b[0m\u001b[0;34m(\u001b[0m\u001b[0mfeaturesImportance\u001b[0m\u001b[0;34m)\u001b[0m\u001b[0;34m\u001b[0m\u001b[0;34m\u001b[0m\u001b[0m\n",
      "\u001b[0;32m~/anaconda3/lib/python3.7/site-packages/sklearn/ensemble/forest.py\u001b[0m in \u001b[0;36mfeature_importances_\u001b[0;34m(self)\u001b[0m\n\u001b[1;32m    371\u001b[0m         \u001b[0mfeature_importances_\u001b[0m \u001b[0;34m:\u001b[0m \u001b[0marray\u001b[0m\u001b[0;34m,\u001b[0m \u001b[0mshape\u001b[0m \u001b[0;34m=\u001b[0m \u001b[0;34m[\u001b[0m\u001b[0mn_features\u001b[0m\u001b[0;34m]\u001b[0m\u001b[0;34m\u001b[0m\u001b[0;34m\u001b[0m\u001b[0m\n\u001b[1;32m    372\u001b[0m         \"\"\"\n\u001b[0;32m--> 373\u001b[0;31m         \u001b[0mcheck_is_fitted\u001b[0m\u001b[0;34m(\u001b[0m\u001b[0mself\u001b[0m\u001b[0;34m,\u001b[0m \u001b[0;34m'estimators_'\u001b[0m\u001b[0;34m)\u001b[0m\u001b[0;34m\u001b[0m\u001b[0;34m\u001b[0m\u001b[0m\n\u001b[0m\u001b[1;32m    374\u001b[0m \u001b[0;34m\u001b[0m\u001b[0m\n\u001b[1;32m    375\u001b[0m         all_importances = Parallel(n_jobs=self.n_jobs,\n",
      "\u001b[0;32m~/anaconda3/lib/python3.7/site-packages/sklearn/utils/validation.py\u001b[0m in \u001b[0;36mcheck_is_fitted\u001b[0;34m(estimator, attributes, msg, all_or_any)\u001b[0m\n\u001b[1;32m    949\u001b[0m \u001b[0;34m\u001b[0m\u001b[0m\n\u001b[1;32m    950\u001b[0m     \u001b[0;32mif\u001b[0m \u001b[0;32mnot\u001b[0m \u001b[0mall_or_any\u001b[0m\u001b[0;34m(\u001b[0m\u001b[0;34m[\u001b[0m\u001b[0mhasattr\u001b[0m\u001b[0;34m(\u001b[0m\u001b[0mestimator\u001b[0m\u001b[0;34m,\u001b[0m \u001b[0mattr\u001b[0m\u001b[0;34m)\u001b[0m \u001b[0;32mfor\u001b[0m \u001b[0mattr\u001b[0m \u001b[0;32min\u001b[0m \u001b[0mattributes\u001b[0m\u001b[0;34m]\u001b[0m\u001b[0;34m)\u001b[0m\u001b[0;34m:\u001b[0m\u001b[0;34m\u001b[0m\u001b[0;34m\u001b[0m\u001b[0m\n\u001b[0;32m--> 951\u001b[0;31m         \u001b[0;32mraise\u001b[0m \u001b[0mNotFittedError\u001b[0m\u001b[0;34m(\u001b[0m\u001b[0mmsg\u001b[0m \u001b[0;34m%\u001b[0m \u001b[0;34m{\u001b[0m\u001b[0;34m'name'\u001b[0m\u001b[0;34m:\u001b[0m \u001b[0mtype\u001b[0m\u001b[0;34m(\u001b[0m\u001b[0mestimator\u001b[0m\u001b[0;34m)\u001b[0m\u001b[0;34m.\u001b[0m\u001b[0m__name__\u001b[0m\u001b[0;34m}\u001b[0m\u001b[0;34m)\u001b[0m\u001b[0;34m\u001b[0m\u001b[0;34m\u001b[0m\u001b[0m\n\u001b[0m\u001b[1;32m    952\u001b[0m \u001b[0;34m\u001b[0m\u001b[0m\n\u001b[1;32m    953\u001b[0m \u001b[0;34m\u001b[0m\u001b[0m\n",
      "\u001b[0;31mNotFittedError\u001b[0m: This RandomForestClassifier instance is not fitted yet. Call 'fit' with appropriate arguments before using this method."
     ]
    }
   ],
   "source": [
    "import numpy as np\n",
    "\n",
    "rankListRFC = list()\n",
    "featuresImportance = rfc.feature_importances_\n",
    "for i in range(len(featuresImportance)):\n",
    "    index = np.argmax(featuresImportance)\n",
    "    rankListRFC.append((index, columList[index], featuresImportance[index]))\n",
    "    featuresImportance[index] = - 1000\n",
    "    "
   ]
  },
  {
   "cell_type": "code",
   "execution_count": 55,
   "metadata": {},
   "outputs": [
    {
     "data": {
      "text/plain": [
       "[(19, 'HttpsInHostname', 0.0),\n",
       " (6, 'AtSymbol', 0.0001027496592965877),\n",
       " (35, 'FakeLinkInStatusBar', 0.00010451587263242775),\n",
       " (12, 'NumHash', 0.00018046217557720191),\n",
       " (23, 'DoubleSlashInPath', 0.00023888554730708213),\n",
       " (37, 'PopUpWindow', 0.00026582916939638036),\n",
       " (7, 'TildeSymbol', 0.0006086006624597855),\n",
       " (41, 'ImagesOnlyInForm', 0.0008733809483423452),\n",
       " (36, 'RightClickDisabled', 0.0014370792806266664),\n",
       " (32, 'AbnormalFormAction', 0.0015009310526809645),\n",
       " (14, 'NoHttps', 0.0017467215148052435),\n",
       " (17, 'DomainInSubdomains', 0.0018624455310881072),\n",
       " (40, 'MissingTitle', 0.0022172607628496584),\n",
       " (25, 'EmbeddedBrandName', 0.0022795578205531165),\n",
       " (42, 'SubdomainLevelRT', 0.002428862196644328),\n",
       " (31, 'ExtFormAction', 0.002647903610420865),\n",
       " (9, 'NumPercent', 0.0028370385151386623),\n",
       " (15, 'RandomString', 0.0033837626624969503),\n",
       " (18, 'DomainInPaths', 0.0033875321121463187),\n",
       " (16, 'IpAddress', 0.004232376978403508),\n",
       " (45, 'AbnormalExtFormActionR', 0.00439253806740555),\n",
       " (43, 'UrlLengthRT', 0.004564124607931584),\n",
       " (30, 'RelativeFormAction', 0.004625021497708894),\n",
       " (11, 'NumAmpersand', 0.005016939090688965),\n",
       " (1, 'SubdomainLevel', 0.005868044713332549),\n",
       " (5, 'NumDashInHostname', 0.006245197430829072),\n",
       " (8, 'NumUnderscore', 0.0070658709503229845),\n",
       " (44, 'PctExtResourceUrlsRT', 0.008134729028470898),\n",
       " (28, 'ExtFavicon', 0.01273742320245725),\n",
       " (20, 'HostnameLength', 0.013649132364932348),\n",
       " (10, 'NumQueryComponents', 0.014454366899644562),\n",
       " (22, 'QueryLength', 0.01592844981438004),\n",
       " (24, 'NumSensitiveWords', 0.015947415435704576),\n",
       " (39, 'IframeOrFrame', 0.016465631942985344),\n",
       " (3, 'UrlLength', 0.018677384991953996),\n",
       " (0, 'NumDots', 0.021566652262874755),\n",
       " (21, 'PathLength', 0.02210670914039868),\n",
       " (2, 'PathLevel', 0.026047814016305768),\n",
       " (38, 'SubmitInfoToEmail', 0.028245952169944532),\n",
       " (29, 'InsecureForms', 0.031842074473011926),\n",
       " (46, 'ExtMetaScriptLinkRT', 0.035691563960569404),\n",
       " (13, 'NumNumericChars', 0.035951325166380985),\n",
       " (4, 'NumDash', 0.04280590893584524),\n",
       " (34, 'FrequentDomainNameMismatch', 0.0708358333322718),\n",
       " (33, 'PctNullSelfRedirectHyperlinks', 0.07544491347128572),\n",
       " (27, 'PctExtResourceUrls', 0.07820127632626311),\n",
       " (47, 'PctExtNullSelfRedirectHyperlinksRT', 0.1650210841884542),\n",
       " (26, 'PctExtHyperlinks', 0.18013072644477915)]"
      ]
     },
     "execution_count": 55,
     "metadata": {},
     "output_type": "execute_result"
    }
   ],
   "source": [
    "rankListRFC.sort(key=lambda x: x[2])\n",
    "rankListRFC"
   ]
  },
  {
   "cell_type": "code",
   "execution_count": 59,
   "metadata": {},
   "outputs": [
    {
     "data": {
      "image/png": "[encoded data removed]",
      "text/plain": [
       "<Figure size 1080x1440 with 1 Axes>"
      ]
     },
     "metadata": {
      "needs_background": "light"
     },
     "output_type": "display_data"
    }
   ],
   "source": [
    "import numpy as np\n",
    "import matplotlib.pyplot as plt\n",
    "x = list()\n",
    "y = list()\n",
    "for e in rankListRFC:\n",
    "    x.append(e[1])\n",
    "    y.append(e[2])\n",
    "    \n",
    "\n",
    "plt.figure(figsize=(15, 20))\n",
    "plt.rcParams.update({'font.size': 20})\n",
    "\n",
    "plt.barh(x, y, align='center', color=\"blue\")\n",
    "plt.xlabel(\"Vdalor de importância\")\n",
    "plt.ylabel(\"Variáveis\")\n",
    "\n",
    "plt.show()"
   ]
  },
  {
   "cell_type": "code",
   "execution_count": 14,
   "metadata": {
    "scrolled": true
   },
   "outputs": [
    {
     "data": {
      "text/plain": [
       "49"
      ]
     },
     "execution_count": 14,
     "metadata": {},
     "output_type": "execute_result"
    }
   ],
   "source": [
    "from RandonForest import busca_melhores_features\n",
    "from utils import seleciona_variaveis_RNE\n",
    "\n",
    "#RFC = RandomForestClassifier(n_estimators = 100, criterion = 'entropy')\n",
    "\n",
    "#x_new, y, lista = seleciona_variaveis_RNE(RFC, df, 48)\n",
    "\n",
    "len(df.columns)"
   ]
  },
  {
   "cell_type": "code",
   "execution_count": null,
   "metadata": {},
   "outputs": [],
   "source": [
    "from sklearn import tree\n",
    "\n",
    "tree = tree.DecisionTreeClassifier()\n",
    "x_new, y, lista = seleciona_variaveis_RNE(tree, df, 45)"
   ]
  },
  {
   "cell_type": "code",
   "execution_count": 13,
   "metadata": {},
   "outputs": [
    {
     "name": "stdout",
     "output_type": "stream",
     "text": [
      "Variaveis Retiradas:  [('NumNumericChars', 13), ('HttpsInHostname', 19), ('AbnormalExtFormActionR', 45)]\n"
     ]
    }
   ],
   "source": [
    "from sklearn.svm import SVC\n",
    "\n",
    "sv = SVC(C=1, gamma='scale', kernel = 'linear')\n",
    "x_new, y, lista = seleciona_variaveis_RNE(sv, df, 45)"
   ]
  },
  {
   "cell_type": "code",
   "execution_count": 30,
   "metadata": {},
   "outputs": [],
   "source": [
    "# programa - calculando lista\n",
    "\n",
    "def RankList(dic_sfs, df):\n",
    "    rankList = list()\n",
    "    rankListName = list()\n",
    "    name = df.columns\n",
    "    x = dic_sfs.subsets_\n",
    "    for i in range(1, 49):\n",
    "        candidates = x[i]['feature_idx']\n",
    "        for j in range(0, i):\n",
    "            if(candidates[j] not in rankList):\n",
    "                rankList.append(candidates[j])\n",
    "                rankListName.append(name[candidates[j]])\n",
    "    return rankListName"
   ]
  },
  {
   "cell_type": "code",
   "execution_count": 17,
   "metadata": {},
   "outputs": [
    {
     "ename": "NameError",
     "evalue": "name 'DF' is not defined",
     "output_type": "error",
     "traceback": [
      "\u001b[0;31m---------------------------------------------------------------------------\u001b[0m",
      "\u001b[0;31mNameError\u001b[0m                                 Traceback (most recent call last)",
      "\u001b[0;32m<ipython-input-17-73f155756979>\u001b[0m in \u001b[0;36m<module>\u001b[0;34m\u001b[0m\n\u001b[1;32m      6\u001b[0m \u001b[0;34m\u001b[0m\u001b[0m\n\u001b[1;32m      7\u001b[0m \u001b[0;34m\u001b[0m\u001b[0m\n\u001b[0;32m----> 8\u001b[0;31m \u001b[0mDF\u001b[0m\u001b[0;34m\u001b[0m\u001b[0;34m\u001b[0m\u001b[0m\n\u001b[0m",
      "\u001b[0;31mNameError\u001b[0m: name 'DF' is not defined"
     ]
    }
   ],
   "source": [
    "def calculateListSFS(rfc, tree, svm, df):\n",
    "    sfsrfc = busca_melhores_features(rfc, df)\n",
    "    sfstree = busca_melhores_features(tree, df)\n",
    "    sfssvm = busca_melhores_features(svm, df)\n",
    "    \n",
    "    \n",
    "    \n"
   ]
  },
  {
   "cell_type": "code",
   "execution_count": 20,
   "metadata": {},
   "outputs": [
    {
     "ename": "KeyError",
     "evalue": "\"['Result'] not found in axis\"",
     "output_type": "error",
     "traceback": [
      "\u001b[0;31m---------------------------------------------------------------------------\u001b[0m",
      "\u001b[0;31mKeyError\u001b[0m                                  Traceback (most recent call last)",
      "\u001b[0;32m<ipython-input-20-67706d0e40bc>\u001b[0m in \u001b[0;36m<module>\u001b[0;34m\u001b[0m\n\u001b[1;32m     11\u001b[0m \u001b[0;34m\u001b[0m\u001b[0m\n\u001b[1;32m     12\u001b[0m \u001b[0mRFC\u001b[0m \u001b[0;34m=\u001b[0m \u001b[0mRandomForestClassifier\u001b[0m\u001b[0;34m(\u001b[0m\u001b[0mn_estimators\u001b[0m \u001b[0;34m=\u001b[0m \u001b[0;36m100\u001b[0m\u001b[0;34m,\u001b[0m \u001b[0mcriterion\u001b[0m \u001b[0;34m=\u001b[0m \u001b[0;34m'entropy'\u001b[0m\u001b[0;34m)\u001b[0m\u001b[0;34m\u001b[0m\u001b[0;34m\u001b[0m\u001b[0m\n\u001b[0;32m---> 13\u001b[0;31m \u001b[0msfs\u001b[0m \u001b[0;34m=\u001b[0m  \u001b[0mbusca_melhores_features\u001b[0m\u001b[0;34m(\u001b[0m\u001b[0mRFC\u001b[0m\u001b[0;34m,\u001b[0m \u001b[0mdf\u001b[0m\u001b[0;34m)\u001b[0m\u001b[0;34m\u001b[0m\u001b[0;34m\u001b[0m\u001b[0m\n\u001b[0m\u001b[1;32m     14\u001b[0m \u001b[0mlist_RFC\u001b[0m \u001b[0;34m=\u001b[0m \u001b[0mRankList\u001b[0m\u001b[0;34m(\u001b[0m\u001b[0msfs\u001b[0m\u001b[0;34m)\u001b[0m\u001b[0;34m\u001b[0m\u001b[0;34m\u001b[0m\u001b[0m\n\u001b[1;32m     15\u001b[0m '''\n",
      "\u001b[0;32m~/Classificadores-welton/projeto/utils/classificadores.py\u001b[0m in \u001b[0;36mbusca_melhores_features\u001b[0;34m(model, dados)\u001b[0m\n\u001b[1;32m     15\u001b[0m                 \u001b[0mfloating\u001b[0m\u001b[0;34m=\u001b[0m\u001b[0;32mFalse\u001b[0m\u001b[0;34m,\u001b[0m \u001b[0mverbose\u001b[0m\u001b[0;34m=\u001b[0m\u001b[0;36m2\u001b[0m\u001b[0;34m,\u001b[0m \u001b[0mscoring\u001b[0m\u001b[0;34m=\u001b[0m\u001b[0;34m'accuracy'\u001b[0m\u001b[0;34m,\u001b[0m \u001b[0mcv\u001b[0m\u001b[0;34m=\u001b[0m\u001b[0;36m5\u001b[0m\u001b[0;34m,\u001b[0m\u001b[0;34m\u001b[0m\u001b[0;34m\u001b[0m\u001b[0m\n\u001b[1;32m     16\u001b[0m \t\tn_jobs=-1)\n\u001b[0;32m---> 17\u001b[0;31m     \u001b[0mseleciona_variaveis_SFS\u001b[0m\u001b[0;34m(\u001b[0m\u001b[0mmodel\u001b[0m\u001b[0;34m,\u001b[0m \u001b[0mdados\u001b[0m\u001b[0;34m,\u001b[0m \u001b[0msfs\u001b[0m\u001b[0;34m)\u001b[0m\u001b[0;34m\u001b[0m\u001b[0;34m\u001b[0m\u001b[0m\n\u001b[0m\u001b[1;32m     18\u001b[0m \u001b[0;31m#    lista = list()\u001b[0m\u001b[0;34m\u001b[0m\u001b[0;34m\u001b[0m\u001b[0;34m\u001b[0m\u001b[0m\n\u001b[1;32m     19\u001b[0m \u001b[0;31m#    for i in range(1, 31):\u001b[0m\u001b[0;34m\u001b[0m\u001b[0;34m\u001b[0m\u001b[0;34m\u001b[0m\u001b[0m\n",
      "\u001b[0;32m~/Classificadores-welton/projeto/utils/utils.py\u001b[0m in \u001b[0;36mseleciona_variaveis_SFS\u001b[0;34m(model, dados, sfs)\u001b[0m\n\u001b[1;32m     40\u001b[0m \u001b[0;32mdef\u001b[0m \u001b[0mseleciona_variaveis_SFS\u001b[0m\u001b[0;34m(\u001b[0m\u001b[0mmodel\u001b[0m\u001b[0;34m,\u001b[0m \u001b[0mdados\u001b[0m\u001b[0;34m,\u001b[0m \u001b[0msfs\u001b[0m\u001b[0;34m)\u001b[0m\u001b[0;34m:\u001b[0m\u001b[0;34m\u001b[0m\u001b[0;34m\u001b[0m\u001b[0m\n\u001b[1;32m     41\u001b[0m \u001b[0;34m\u001b[0m\u001b[0m\n\u001b[0;32m---> 42\u001b[0;31m         \u001b[0mX\u001b[0m \u001b[0;34m=\u001b[0m \u001b[0mdados\u001b[0m\u001b[0;34m.\u001b[0m\u001b[0mdrop\u001b[0m\u001b[0;34m(\u001b[0m\u001b[0;34m'CLASS_LABEL'\u001b[0m\u001b[0;34m,\u001b[0m\u001b[0maxis\u001b[0m\u001b[0;34m=\u001b[0m\u001b[0;36m1\u001b[0m\u001b[0;34m)\u001b[0m\u001b[0;34m\u001b[0m\u001b[0;34m\u001b[0m\u001b[0m\n\u001b[0m\u001b[1;32m     43\u001b[0m         \u001b[0mY\u001b[0m \u001b[0;34m=\u001b[0m \u001b[0mdados\u001b[0m\u001b[0;34m[\u001b[0m\u001b[0;34m'CLASS_LABEL'\u001b[0m\u001b[0;34m]\u001b[0m\u001b[0;34m.\u001b[0m\u001b[0mastype\u001b[0m\u001b[0;34m(\u001b[0m\u001b[0;34m'int32'\u001b[0m\u001b[0;34m)\u001b[0m\u001b[0;34m\u001b[0m\u001b[0;34m\u001b[0m\u001b[0m\n\u001b[1;32m     44\u001b[0m         \u001b[0msfs\u001b[0m \u001b[0;34m=\u001b[0m \u001b[0msfs\u001b[0m\u001b[0;34m.\u001b[0m\u001b[0mfit_transform\u001b[0m\u001b[0;34m(\u001b[0m\u001b[0mX\u001b[0m\u001b[0;34m,\u001b[0m \u001b[0mY\u001b[0m\u001b[0;34m)\u001b[0m\u001b[0;34m\u001b[0m\u001b[0;34m\u001b[0m\u001b[0m\n",
      "\u001b[0;32m~/anaconda3/lib/python3.7/site-packages/pandas/core/frame.py\u001b[0m in \u001b[0;36mdrop\u001b[0;34m(self, labels, axis, index, columns, level, inplace, errors)\u001b[0m\n\u001b[1;32m   3938\u001b[0m                                            \u001b[0mindex\u001b[0m\u001b[0;34m=\u001b[0m\u001b[0mindex\u001b[0m\u001b[0;34m,\u001b[0m \u001b[0mcolumns\u001b[0m\u001b[0;34m=\u001b[0m\u001b[0mcolumns\u001b[0m\u001b[0;34m,\u001b[0m\u001b[0;34m\u001b[0m\u001b[0;34m\u001b[0m\u001b[0m\n\u001b[1;32m   3939\u001b[0m                                            \u001b[0mlevel\u001b[0m\u001b[0;34m=\u001b[0m\u001b[0mlevel\u001b[0m\u001b[0;34m,\u001b[0m \u001b[0minplace\u001b[0m\u001b[0;34m=\u001b[0m\u001b[0minplace\u001b[0m\u001b[0;34m,\u001b[0m\u001b[0;34m\u001b[0m\u001b[0;34m\u001b[0m\u001b[0m\n\u001b[0;32m-> 3940\u001b[0;31m                                            errors=errors)\n\u001b[0m\u001b[1;32m   3941\u001b[0m \u001b[0;34m\u001b[0m\u001b[0m\n\u001b[1;32m   3942\u001b[0m     @rewrite_axis_style_signature('mapper', [('copy', True),\n",
      "\u001b[0;32m~/anaconda3/lib/python3.7/site-packages/pandas/core/generic.py\u001b[0m in \u001b[0;36mdrop\u001b[0;34m(self, labels, axis, index, columns, level, inplace, errors)\u001b[0m\n\u001b[1;32m   3778\u001b[0m         \u001b[0;32mfor\u001b[0m \u001b[0maxis\u001b[0m\u001b[0;34m,\u001b[0m \u001b[0mlabels\u001b[0m \u001b[0;32min\u001b[0m \u001b[0maxes\u001b[0m\u001b[0;34m.\u001b[0m\u001b[0mitems\u001b[0m\u001b[0;34m(\u001b[0m\u001b[0;34m)\u001b[0m\u001b[0;34m:\u001b[0m\u001b[0;34m\u001b[0m\u001b[0;34m\u001b[0m\u001b[0m\n\u001b[1;32m   3779\u001b[0m             \u001b[0;32mif\u001b[0m \u001b[0mlabels\u001b[0m \u001b[0;32mis\u001b[0m \u001b[0;32mnot\u001b[0m \u001b[0;32mNone\u001b[0m\u001b[0;34m:\u001b[0m\u001b[0;34m\u001b[0m\u001b[0;34m\u001b[0m\u001b[0m\n\u001b[0;32m-> 3780\u001b[0;31m                 \u001b[0mobj\u001b[0m \u001b[0;34m=\u001b[0m \u001b[0mobj\u001b[0m\u001b[0;34m.\u001b[0m\u001b[0m_drop_axis\u001b[0m\u001b[0;34m(\u001b[0m\u001b[0mlabels\u001b[0m\u001b[0;34m,\u001b[0m \u001b[0maxis\u001b[0m\u001b[0;34m,\u001b[0m \u001b[0mlevel\u001b[0m\u001b[0;34m=\u001b[0m\u001b[0mlevel\u001b[0m\u001b[0;34m,\u001b[0m \u001b[0merrors\u001b[0m\u001b[0;34m=\u001b[0m\u001b[0merrors\u001b[0m\u001b[0;34m)\u001b[0m\u001b[0;34m\u001b[0m\u001b[0;34m\u001b[0m\u001b[0m\n\u001b[0m\u001b[1;32m   3781\u001b[0m \u001b[0;34m\u001b[0m\u001b[0m\n\u001b[1;32m   3782\u001b[0m         \u001b[0;32mif\u001b[0m \u001b[0minplace\u001b[0m\u001b[0;34m:\u001b[0m\u001b[0;34m\u001b[0m\u001b[0;34m\u001b[0m\u001b[0m\n",
      "\u001b[0;32m~/anaconda3/lib/python3.7/site-packages/pandas/core/generic.py\u001b[0m in \u001b[0;36m_drop_axis\u001b[0;34m(self, labels, axis, level, errors)\u001b[0m\n\u001b[1;32m   3810\u001b[0m                 \u001b[0mnew_axis\u001b[0m \u001b[0;34m=\u001b[0m \u001b[0maxis\u001b[0m\u001b[0;34m.\u001b[0m\u001b[0mdrop\u001b[0m\u001b[0;34m(\u001b[0m\u001b[0mlabels\u001b[0m\u001b[0;34m,\u001b[0m \u001b[0mlevel\u001b[0m\u001b[0;34m=\u001b[0m\u001b[0mlevel\u001b[0m\u001b[0;34m,\u001b[0m \u001b[0merrors\u001b[0m\u001b[0;34m=\u001b[0m\u001b[0merrors\u001b[0m\u001b[0;34m)\u001b[0m\u001b[0;34m\u001b[0m\u001b[0;34m\u001b[0m\u001b[0m\n\u001b[1;32m   3811\u001b[0m             \u001b[0;32melse\u001b[0m\u001b[0;34m:\u001b[0m\u001b[0;34m\u001b[0m\u001b[0;34m\u001b[0m\u001b[0m\n\u001b[0;32m-> 3812\u001b[0;31m                 \u001b[0mnew_axis\u001b[0m \u001b[0;34m=\u001b[0m \u001b[0maxis\u001b[0m\u001b[0;34m.\u001b[0m\u001b[0mdrop\u001b[0m\u001b[0;34m(\u001b[0m\u001b[0mlabels\u001b[0m\u001b[0;34m,\u001b[0m \u001b[0merrors\u001b[0m\u001b[0;34m=\u001b[0m\u001b[0merrors\u001b[0m\u001b[0;34m)\u001b[0m\u001b[0;34m\u001b[0m\u001b[0;34m\u001b[0m\u001b[0m\n\u001b[0m\u001b[1;32m   3813\u001b[0m             \u001b[0mresult\u001b[0m \u001b[0;34m=\u001b[0m \u001b[0mself\u001b[0m\u001b[0;34m.\u001b[0m\u001b[0mreindex\u001b[0m\u001b[0;34m(\u001b[0m\u001b[0;34m**\u001b[0m\u001b[0;34m{\u001b[0m\u001b[0maxis_name\u001b[0m\u001b[0;34m:\u001b[0m \u001b[0mnew_axis\u001b[0m\u001b[0;34m}\u001b[0m\u001b[0;34m)\u001b[0m\u001b[0;34m\u001b[0m\u001b[0;34m\u001b[0m\u001b[0m\n\u001b[1;32m   3814\u001b[0m \u001b[0;34m\u001b[0m\u001b[0m\n",
      "\u001b[0;32m~/anaconda3/lib/python3.7/site-packages/pandas/core/indexes/base.py\u001b[0m in \u001b[0;36mdrop\u001b[0;34m(self, labels, errors)\u001b[0m\n\u001b[1;32m   4963\u001b[0m             \u001b[0;32mif\u001b[0m \u001b[0merrors\u001b[0m \u001b[0;34m!=\u001b[0m \u001b[0;34m'ignore'\u001b[0m\u001b[0;34m:\u001b[0m\u001b[0;34m\u001b[0m\u001b[0;34m\u001b[0m\u001b[0m\n\u001b[1;32m   4964\u001b[0m                 raise KeyError(\n\u001b[0;32m-> 4965\u001b[0;31m                     '{} not found in axis'.format(labels[mask]))\n\u001b[0m\u001b[1;32m   4966\u001b[0m             \u001b[0mindexer\u001b[0m \u001b[0;34m=\u001b[0m \u001b[0mindexer\u001b[0m\u001b[0;34m[\u001b[0m\u001b[0;34m~\u001b[0m\u001b[0mmask\u001b[0m\u001b[0;34m]\u001b[0m\u001b[0;34m\u001b[0m\u001b[0;34m\u001b[0m\u001b[0m\n\u001b[1;32m   4967\u001b[0m         \u001b[0;32mreturn\u001b[0m \u001b[0mself\u001b[0m\u001b[0;34m.\u001b[0m\u001b[0mdelete\u001b[0m\u001b[0;34m(\u001b[0m\u001b[0mindexer\u001b[0m\u001b[0;34m)\u001b[0m\u001b[0;34m\u001b[0m\u001b[0;34m\u001b[0m\u001b[0m\n",
      "\u001b[0;31mKeyError\u001b[0m: \"['Result'] not found in axis\""
     ]
    }
   ],
   "source": [
    "from sys import argv\n",
    "from utils import carregar_base, seleciona_variaveis_SFS\n",
    "from sklearn.feature_selection import SelectFromModel\n",
    "from sklearn.ensemble import RandomForestClassifier\n",
    "from sklearn.svm import SVC\n",
    "from sklearn.naive_bayes import GaussianNB\n",
    "from classificadores import busca_melhores_features\n",
    "import matplotlib.pyplot as plt\n",
    "from sklearn import tree\n",
    "import pickle\n",
    "\n",
    "RFC = RandomForestClassifier(n_estimators = 100, criterion = 'entropy')\n",
    "sfs =  busca_melhores_features(RFC, df)\n",
    "list_RFC = RankList(sfs)\n",
    "'''\n",
    "tree = tree.DecisionTreeClassifier()\n",
    "sfs2 = busca_melhores_features(tree, df)\n",
    "list_tree = RankList(sfs2)\n",
    "\n",
    "SVM = SVC(C=1, gamma='scale', kernel = 'linear')\n",
    "sfs3 = busca_melhores_features(SVM, df)\n",
    "list_SVM = RankList(sfs3)\n",
    "'''\n",
    "\n"
   ]
  },
  {
   "cell_type": "code",
   "execution_count": 28,
   "metadata": {},
   "outputs": [],
   "source": [
    "#sfslist\n",
    "from mlxtend.feature_selection import SequentialFeatureSelector as SFS\n",
    "\n",
    "def sfsListSelect(model, df):\n",
    "    n_features = len(df.columns)-1\n",
    "    sfs = SFS(model, k_features=n_features, forward=True,\n",
    "            floating=False, verbose=2, scoring='accuracy', cv=5,\n",
    "            n_jobs=-1)\n",
    "    X = df.drop('CLASS_LABEL',axis=1)\n",
    "    Y = df['CLASS_LABEL'].astype('int32')\n",
    "    sfs.fit(X, Y)\n",
    "    return RankList(sfs)\n",
    "    "
   ]
  },
  {
   "cell_type": "code",
   "execution_count": 31,
   "metadata": {},
   "outputs": [
    {
     "name": "stderr",
     "output_type": "stream",
     "text": [
      "[Parallel(n_jobs=-1)]: Using backend LokyBackend with 4 concurrent workers.\n",
      "[Parallel(n_jobs=-1)]: Done  33 tasks      | elapsed:   20.2s\n",
      "[Parallel(n_jobs=-1)]: Done  48 out of  48 | elapsed:   25.5s finished\n",
      "\n",
      "[2019-11-15 11:34:01] Features: 1/48 -- score: 0.9098[Parallel(n_jobs=-1)]: Using backend LokyBackend with 4 concurrent workers.\n",
      "[Parallel(n_jobs=-1)]: Done  33 tasks      | elapsed:   55.9s\n",
      "[Parallel(n_jobs=-1)]: Done  47 out of  47 | elapsed:  1.2min finished\n",
      "\n",
      "[2019-11-15 11:35:16] Features: 2/48 -- score: 0.9423999999999999[Parallel(n_jobs=-1)]: Using backend LokyBackend with 4 concurrent workers.\n",
      "[Parallel(n_jobs=-1)]: Done  33 tasks      | elapsed:   52.0s\n",
      "[Parallel(n_jobs=-1)]: Done  46 out of  46 | elapsed:  1.1min finished\n",
      "\n",
      "[2019-11-15 11:36:24] Features: 3/48 -- score: 0.9521000000000001[Parallel(n_jobs=-1)]: Using backend LokyBackend with 4 concurrent workers.\n",
      "[Parallel(n_jobs=-1)]: Done  33 tasks      | elapsed:  1.2min\n",
      "[Parallel(n_jobs=-1)]: Done  45 out of  45 | elapsed:  1.5min finished\n",
      "\n",
      "[2019-11-15 11:37:55] Features: 4/48 -- score: 0.9577[Parallel(n_jobs=-1)]: Using backend LokyBackend with 4 concurrent workers.\n",
      "[Parallel(n_jobs=-1)]: Done  33 tasks      | elapsed:  1.1min\n",
      "[Parallel(n_jobs=-1)]: Done  44 out of  44 | elapsed:  1.3min finished\n",
      "\n",
      "[2019-11-15 11:39:14] Features: 5/48 -- score: 0.9633999999999998[Parallel(n_jobs=-1)]: Using backend LokyBackend with 4 concurrent workers.\n",
      "[Parallel(n_jobs=-1)]: Done  33 tasks      | elapsed:  1.0min\n",
      "[Parallel(n_jobs=-1)]: Done  43 out of  43 | elapsed:  1.2min finished\n",
      "\n",
      "[2019-11-15 11:40:29] Features: 6/48 -- score: 0.9677999999999999[Parallel(n_jobs=-1)]: Using backend LokyBackend with 4 concurrent workers.\n",
      "[Parallel(n_jobs=-1)]: Done  33 tasks      | elapsed:  1.0min\n",
      "[Parallel(n_jobs=-1)]: Done  42 out of  42 | elapsed:  1.2min finished\n",
      "\n",
      "[2019-11-15 11:41:42] Features: 7/48 -- score: 0.9696999999999999[Parallel(n_jobs=-1)]: Using backend LokyBackend with 4 concurrent workers.\n",
      "[Parallel(n_jobs=-1)]: Done  33 tasks      | elapsed:   56.0s\n",
      "[Parallel(n_jobs=-1)]: Done  41 out of  41 | elapsed:  1.1min finished\n",
      "\n",
      "[2019-11-15 11:42:49] Features: 8/48 -- score: 0.9715[Parallel(n_jobs=-1)]: Using backend LokyBackend with 4 concurrent workers.\n",
      "[Parallel(n_jobs=-1)]: Done  33 tasks      | elapsed:  1.0min\n",
      "[Parallel(n_jobs=-1)]: Done  40 out of  40 | elapsed:  1.1min finished\n",
      "\n",
      "[2019-11-15 11:43:58] Features: 9/48 -- score: 0.9728999999999999[Parallel(n_jobs=-1)]: Using backend LokyBackend with 4 concurrent workers.\n",
      "[Parallel(n_jobs=-1)]: Done  39 out of  39 | elapsed:  1.1min finished\n",
      "\n",
      "[2019-11-15 11:45:04] Features: 10/48 -- score: 0.9739000000000001[Parallel(n_jobs=-1)]: Using backend LokyBackend with 4 concurrent workers.\n",
      "[Parallel(n_jobs=-1)]: Done  38 out of  38 | elapsed:  1.0min finished\n",
      "\n",
      "[2019-11-15 11:46:06] Features: 11/48 -- score: 0.9743[Parallel(n_jobs=-1)]: Using backend LokyBackend with 4 concurrent workers.\n",
      "[Parallel(n_jobs=-1)]: Done  37 out of  37 | elapsed:   57.4s finished\n",
      "\n",
      "[2019-11-15 11:47:04] Features: 12/48 -- score: 0.9747999999999999[Parallel(n_jobs=-1)]: Using backend LokyBackend with 4 concurrent workers.\n",
      "[Parallel(n_jobs=-1)]: Done  36 out of  36 | elapsed:   57.7s finished\n",
      "\n",
      "[2019-11-15 11:48:02] Features: 13/48 -- score: 0.9756[Parallel(n_jobs=-1)]: Using backend LokyBackend with 4 concurrent workers.\n",
      "[Parallel(n_jobs=-1)]: Done  35 out of  35 | elapsed:   56.3s finished\n",
      "\n",
      "[2019-11-15 11:48:58] Features: 14/48 -- score: 0.9763999999999999[Parallel(n_jobs=-1)]: Using backend LokyBackend with 4 concurrent workers.\n",
      "[Parallel(n_jobs=-1)]: Done  34 out of  34 | elapsed:   55.9s finished\n",
      "\n",
      "[2019-11-15 11:49:55] Features: 15/48 -- score: 0.9766999999999999[Parallel(n_jobs=-1)]: Using backend LokyBackend with 4 concurrent workers.\n",
      "[Parallel(n_jobs=-1)]: Done  33 out of  33 | elapsed:   59.5s finished\n",
      "\n",
      "[2019-11-15 11:50:55] Features: 16/48 -- score: 0.977[Parallel(n_jobs=-1)]: Using backend LokyBackend with 4 concurrent workers.\n",
      "[Parallel(n_jobs=-1)]: Done  32 out of  32 | elapsed:  1.0min finished\n",
      "\n",
      "[2019-11-15 11:51:57] Features: 17/48 -- score: 0.9769[Parallel(n_jobs=-1)]: Using backend LokyBackend with 4 concurrent workers.\n",
      "[Parallel(n_jobs=-1)]: Done  31 out of  31 | elapsed:  1.3min finished\n",
      "\n",
      "[2019-11-15 11:53:23] Features: 18/48 -- score: 0.9781000000000001[Parallel(n_jobs=-1)]: Using backend LokyBackend with 4 concurrent workers.\n",
      "[Parallel(n_jobs=-1)]: Done  30 out of  30 | elapsed:  1.1min finished\n",
      "\n",
      "[2019-11-15 11:54:27] Features: 19/48 -- score: 0.9779[Parallel(n_jobs=-1)]: Using backend LokyBackend with 4 concurrent workers.\n",
      "[Parallel(n_jobs=-1)]: Done  29 out of  29 | elapsed:   49.7s finished\n",
      "\n",
      "[2019-11-15 11:55:17] Features: 20/48 -- score: 0.9776[Parallel(n_jobs=-1)]: Using backend LokyBackend with 4 concurrent workers.\n",
      "[Parallel(n_jobs=-1)]: Done  28 out of  28 | elapsed:   45.8s finished\n",
      "\n",
      "[2019-11-15 11:56:03] Features: 21/48 -- score: 0.9785[Parallel(n_jobs=-1)]: Using backend LokyBackend with 4 concurrent workers.\n",
      "[Parallel(n_jobs=-1)]: Done  27 out of  27 | elapsed:   44.0s finished\n",
      "\n",
      "[2019-11-15 11:56:48] Features: 22/48 -- score: 0.9785999999999999[Parallel(n_jobs=-1)]: Using backend LokyBackend with 4 concurrent workers.\n",
      "[Parallel(n_jobs=-1)]: Done  26 out of  26 | elapsed:   43.9s finished\n",
      "\n",
      "[2019-11-15 11:57:32] Features: 23/48 -- score: 0.9781000000000001[Parallel(n_jobs=-1)]: Using backend LokyBackend with 4 concurrent workers.\n",
      "[Parallel(n_jobs=-1)]: Done  25 out of  25 | elapsed:   41.5s finished\n",
      "\n",
      "[2019-11-15 11:58:14] Features: 24/48 -- score: 0.9786000000000001[Parallel(n_jobs=-1)]: Using backend LokyBackend with 4 concurrent workers.\n",
      "[Parallel(n_jobs=-1)]: Done  24 out of  24 | elapsed:   41.7s finished\n",
      "\n",
      "[2019-11-15 11:58:56] Features: 25/48 -- score: 0.9789999999999999[Parallel(n_jobs=-1)]: Using backend LokyBackend with 4 concurrent workers.\n",
      "[Parallel(n_jobs=-1)]: Done  23 out of  23 | elapsed:   41.6s finished\n",
      "\n",
      "[2019-11-15 11:59:38] Features: 26/48 -- score: 0.9789000000000001[Parallel(n_jobs=-1)]: Using backend LokyBackend with 4 concurrent workers.\n",
      "[Parallel(n_jobs=-1)]: Done  22 out of  22 | elapsed:   39.4s finished\n",
      "\n",
      "[2019-11-15 12:00:17] Features: 27/48 -- score: 0.9789[Parallel(n_jobs=-1)]: Using backend LokyBackend with 4 concurrent workers.\n",
      "[Parallel(n_jobs=-1)]: Done  21 out of  21 | elapsed:   38.3s finished\n",
      "\n",
      "[2019-11-15 12:00:56] Features: 28/48 -- score: 0.9787000000000001[Parallel(n_jobs=-1)]: Using backend LokyBackend with 4 concurrent workers.\n",
      "[Parallel(n_jobs=-1)]: Done  20 out of  20 | elapsed:   35.3s finished\n",
      "\n",
      "[2019-11-15 12:01:32] Features: 29/48 -- score: 0.9779[Parallel(n_jobs=-1)]: Using backend LokyBackend with 4 concurrent workers.\n",
      "[Parallel(n_jobs=-1)]: Done  19 out of  19 | elapsed:   33.4s finished\n",
      "\n",
      "[2019-11-15 12:02:05] Features: 30/48 -- score: 0.9783000000000002[Parallel(n_jobs=-1)]: Using backend LokyBackend with 4 concurrent workers.\n",
      "[Parallel(n_jobs=-1)]: Done  18 out of  18 | elapsed:   32.5s finished\n",
      "\n",
      "[2019-11-15 12:02:38] Features: 31/48 -- score: 0.9787000000000001[Parallel(n_jobs=-1)]: Using backend LokyBackend with 4 concurrent workers.\n",
      "[Parallel(n_jobs=-1)]: Done  17 out of  17 | elapsed:   30.0s finished\n",
      "\n",
      "[2019-11-15 12:03:09] Features: 32/48 -- score: 0.9796999999999999[Parallel(n_jobs=-1)]: Using backend LokyBackend with 4 concurrent workers.\n",
      "[Parallel(n_jobs=-1)]: Done  16 out of  16 | elapsed:   27.7s finished\n",
      "\n",
      "[2019-11-15 12:03:37] Features: 33/48 -- score: 0.9791000000000001[Parallel(n_jobs=-1)]: Using backend LokyBackend with 4 concurrent workers.\n",
      "[Parallel(n_jobs=-1)]: Done  15 out of  15 | elapsed:   27.0s finished\n",
      "\n",
      "[2019-11-15 12:04:04] Features: 34/48 -- score: 0.9788[Parallel(n_jobs=-1)]: Using backend LokyBackend with 4 concurrent workers.\n",
      "[Parallel(n_jobs=-1)]: Done  14 out of  14 | elapsed:   24.7s finished\n",
      "\n",
      "[2019-11-15 12:04:29] Features: 35/48 -- score: 0.9789[Parallel(n_jobs=-1)]: Using backend LokyBackend with 4 concurrent workers.\n",
      "[Parallel(n_jobs=-1)]: Done  13 out of  13 | elapsed:   26.9s remaining:    0.0s\n",
      "[Parallel(n_jobs=-1)]: Done  13 out of  13 | elapsed:   26.9s finished\n",
      "\n",
      "[2019-11-15 12:04:56] Features: 36/48 -- score: 0.9783000000000002[Parallel(n_jobs=-1)]: Using backend LokyBackend with 4 concurrent workers.\n"
     ]
    },
    {
     "name": "stderr",
     "output_type": "stream",
     "text": [
      "[Parallel(n_jobs=-1)]: Done  12 out of  12 | elapsed:   23.8s remaining:    0.0s\n",
      "[Parallel(n_jobs=-1)]: Done  12 out of  12 | elapsed:   23.8s finished\n",
      "\n",
      "[2019-11-15 12:05:20] Features: 37/48 -- score: 0.9797[Parallel(n_jobs=-1)]: Using backend LokyBackend with 4 concurrent workers.\n",
      "[Parallel(n_jobs=-1)]: Done  11 out of  11 | elapsed:   22.8s finished\n",
      "\n",
      "[2019-11-15 12:05:44] Features: 38/48 -- score: 0.9793000000000001[Parallel(n_jobs=-1)]: Using backend LokyBackend with 4 concurrent workers.\n",
      "[Parallel(n_jobs=-1)]: Done  10 out of  10 | elapsed:   21.0s finished\n",
      "\n",
      "[2019-11-15 12:06:05] Features: 39/48 -- score: 0.9789[Parallel(n_jobs=-1)]: Using backend LokyBackend with 4 concurrent workers.\n",
      "[Parallel(n_jobs=-1)]: Done   7 out of   9 | elapsed:   16.1s remaining:    4.6s\n",
      "[Parallel(n_jobs=-1)]: Done   9 out of   9 | elapsed:   19.3s finished\n",
      "\n",
      "[2019-11-15 12:06:25] Features: 40/48 -- score: 0.9785999999999999[Parallel(n_jobs=-1)]: Using backend LokyBackend with 4 concurrent workers.\n",
      "[Parallel(n_jobs=-1)]: Done   6 out of   8 | elapsed:   15.1s remaining:    5.0s\n",
      "[Parallel(n_jobs=-1)]: Done   8 out of   8 | elapsed:   15.4s finished\n",
      "\n",
      "[2019-11-15 12:06:40] Features: 41/48 -- score: 0.9780000000000001[Parallel(n_jobs=-1)]: Using backend LokyBackend with 4 concurrent workers.\n",
      "[Parallel(n_jobs=-1)]: Done   4 out of   7 | elapsed:    9.2s remaining:    6.9s\n",
      "[Parallel(n_jobs=-1)]: Done   7 out of   7 | elapsed:   15.0s finished\n",
      "\n",
      "[2019-11-15 12:06:56] Features: 42/48 -- score: 0.9770999999999999[Parallel(n_jobs=-1)]: Using backend LokyBackend with 4 concurrent workers.\n",
      "[Parallel(n_jobs=-1)]: Done   3 out of   6 | elapsed:    9.4s remaining:    9.4s\n",
      "[Parallel(n_jobs=-1)]: Done   6 out of   6 | elapsed:   13.8s finished\n",
      "\n",
      "[2019-11-15 12:07:10] Features: 43/48 -- score: 0.9766000000000001[Parallel(n_jobs=-1)]: Using backend LokyBackend with 4 concurrent workers.\n",
      "[Parallel(n_jobs=-1)]: Done   5 out of   5 | elapsed:   13.2s finished\n",
      "\n",
      "[2019-11-15 12:07:23] Features: 44/48 -- score: 0.9764000000000002[Parallel(n_jobs=-1)]: Using backend LokyBackend with 4 concurrent workers.\n",
      "[Parallel(n_jobs=-1)]: Done   4 out of   4 | elapsed:    9.5s finished\n",
      "\n",
      "[2019-11-15 12:07:33] Features: 45/48 -- score: 0.9766[Parallel(n_jobs=-1)]: Using backend LokyBackend with 4 concurrent workers.\n",
      "[Parallel(n_jobs=-1)]: Done   3 out of   3 | elapsed:    8.1s finished\n",
      "\n",
      "[2019-11-15 12:07:42] Features: 46/48 -- score: 0.9763999999999999[Parallel(n_jobs=-1)]: Using backend LokyBackend with 4 concurrent workers.\n",
      "[Parallel(n_jobs=-1)]: Done   2 out of   2 | elapsed:    6.0s finished\n",
      "\n",
      "[2019-11-15 12:07:48] Features: 47/48 -- score: 0.9766[Parallel(n_jobs=-1)]: Using backend LokyBackend with 4 concurrent workers.\n",
      "[Parallel(n_jobs=-1)]: Done   1 out of   1 | elapsed:    5.4s finished\n",
      "\n",
      "[2019-11-15 12:07:54] Features: 48/48 -- score: 0.9747"
     ]
    },
    {
     "data": {
      "text/plain": [
       "[26,\n",
       " 33,\n",
       " 27,\n",
       " 29,\n",
       " 34,\n",
       " 11,\n",
       " 28,\n",
       " 39,\n",
       " 14,\n",
       " 38,\n",
       " 45,\n",
       " 2,\n",
       " 24,\n",
       " 10,\n",
       " 36,\n",
       " 44,\n",
       " 46,\n",
       " 6,\n",
       " 42,\n",
       " 31,\n",
       " 5,\n",
       " 16,\n",
       " 19,\n",
       " 17,\n",
       " 25,\n",
       " 41,\n",
       " 9,\n",
       " 0,\n",
       " 4,\n",
       " 47,\n",
       " 23,\n",
       " 12,\n",
       " 22,\n",
       " 30,\n",
       " 32,\n",
       " 8,\n",
       " 7,\n",
       " 1,\n",
       " 37,\n",
       " 15,\n",
       " 21,\n",
       " 20,\n",
       " 40,\n",
       " 43,\n",
       " 18,\n",
       " 35,\n",
       " 13,\n",
       " 3]"
      ]
     },
     "execution_count": 31,
     "metadata": {},
     "output_type": "execute_result"
    }
   ],
   "source": [
    "sfsListSelect(RFC, df)"
   ]
  },
  {
   "cell_type": "code",
   "execution_count": null,
   "metadata": {},
   "outputs": [],
   "source": [
    "from sklearn.ensemble import RandomForestClassifier\n",
    "\n",
    "def treeListSelect(df):\n",
    "    X = df.drop('CLASS_LABEL',axis=1)\n",
    "    Y = df['CLASS_LABEL'].astype('int32')\n",
    "    rfc = RandomForestClassifier(n_estimators = 100, criterion = 'entropy')\n",
    "    rfc.fit(X, Y)\n",
    "    columList = df.columns\n",
    "    rankListRFC = list()\n",
    "    featuresImportance = rfc.feature_importances_\n",
    "    for i in range(len(featuresImportance)):h\n",
    "        index = np.argmax(featuresImportance)\n",
    "        rankListRFC.append(columList[index])\n",
    "        featuresImportance[index] = - 1000"
   ]
  },
  {
   "cell_type": "code",
   "execution_count": null,
   "metadata": {},
   "outputs": [],
   "source": [
    "lista = [1,2,3]\n",
    "list2 = [3, 2, 1]\n",
    "lista3 = [3, 2, 2]\n",
    "lista4 = [lista, lista2, lista3]\n",
    "for e in lista4:\n",
    "    print(e)\n",
    "    \n",
    "def avaliaModelLista(rankList, model, df):\n",
    "    \n",
    "    X = df.drop('CLASS_LABEL',axis=1)\n",
    "    Y = df['CLASS_LABEL'].astype('int32')\n",
    "    y_pred = cross_val_predict(model, X, Y, cv=5)\n",
    "    allMetrics = list()\n",
    "    acuracy = list()\n",
    "    allMetrics.append(calculateMetrics(y_pred, Y))    \n",
    "    acuracy.append(allMetrics[0][0])\n",
    "    \n",
    "    for feature in rankList:\n",
    "        X = X.drop(feature, axis = 1)\n",
    "        varNumber += 1\n",
    "        allMetrics.append(calculateMetrics(y_pred, Y))    \n",
    "        acuracy.append(allMetrics[varNumber][0])  \n",
    "\n",
    "    return allMetrics, acuracy\n"
   ]
  },
  {
   "cell_type": "code",
   "execution_count": null,
   "metadata": {},
   "outputs": [],
   "source": [
    "def plotGrafico(acc_RFC, acc_Tree, acc_SVM, path):\n",
    "    x = range(1, 49)\n",
    "    \n",
    "    plt.plot(x, acc_Tree, 'o', color = 'blue' )\n",
    "    plt.plot(x, acc_Tree, label = 'Decision-Tree', color = 'blue')\n",
    "\n",
    "    plt.plot(x, acc_RFC, 'o', color = 'red')\n",
    "    plt.plot(x, acc_RFC, label = 'RFC', color = 'red')\n",
    "\n",
    "    plt.plot(x, acc_SVM, 'o', color = 'green')\n",
    "    plt.plot(x, acc_SVM, label = 'SVM',color = 'green')\n",
    "\n",
    "    plt.xlabel('Número de variáveis')\n",
    "    plt.ylabel('Acurácia')\n",
    "    plt.legend()\n",
    "    plt.savefig(path)\n"
   ]
  },
  {
   "cell_type": "code",
   "execution_count": null,
   "metadata": {},
   "outputs": [],
   "source": [
    "def seleciona_variaveis_RFE_Metrics(model, dados, num_variaveis):\n",
    "    X = dados.drop('CLASS_LABEL',axis=1).astype('int32')\n",
    "    Y = dados['CLASS_LABEL'].astype('int32')\n",
    "    rfe = RFE(model, step=1, n_features_to_select = num_variaveis).fit(X, Y)\n",
    "\n",
    "    # gera lista de variaveis para serem retiradas\n",
    "    featuresNames = X.iloc[0].index\n",
    "    featuresDrops = list()\n",
    "\n",
    "    for i in range(0,len(featuresNames)):\n",
    "        if(not rfe.support_[i]):\n",
    "            FeaturesDrops.append((i, featuresNames[i]))\n",
    "    \n",
    "    # gera novos conjuntos de treinamento excluindo as variaveis\n",
    "    X_new = X\n",
    "    for i in range(0, len(featuresDrops)):\n",
    "        X_new = X_new.drop(featuresNames[i], axis = 1)\n",
    "    return calculateMetrics(y_pred, Y)\n",
    "\n",
    "\n",
    "    "
   ]
  },
  {
   "cell_type": "code",
   "execution_count": null,
   "metadata": {},
   "outputs": [],
   "source": [
    "RFC = RandomForestClassifier(n_estimators = 100, criterion = 'entropy')\n",
    "tree = tree.DecisionTreeClassifier()\n",
    "SVM = SVC(C=1, gamma='scale', kernel = 'linear')\n",
    "\n",
    "rankListRFC = sfsListSelect(RFC, df)\n",
    "rankListTree = sfsListSelect(tree, df)\n",
    "rankListSVM = sfsListSelect(SVM, df)\n",
    "\n",
    "allMetricsRFC, acc_RFC = avaliaModelLista(rankListRFC, RFC, df)\n",
    "allMetricsTree, acc_Tree = avaliaModelLista(rankListTree, tree, df)\n",
    "allMetricsSVM, acc_SVM = avaliaModelLista(rankListSVM, SVM, df)\n",
    "\n",
    "plotGrafico(acc_RFC, acc_Tree, acc_SVM, 'GraficoSVS.png')\n",
    "\n",
    "\n",
    "rfc1 = open('rfcsfs.txt', w)\n",
    "for e in allMetricsRFC:\n",
    "    rfc1.write(str(e) + '\\n')\n",
    "    \n",
    "tree1 = open('treefs.txt', w)\n",
    "for e in allMetricsTree:\n",
    "    tree1.write(str(e) + '\\n')\n",
    "    \n",
    "svm1 = open('svmsfs.txt', w)\n",
    "for e in allMetricsSVM:\n",
    "    svm1.write(str(e) + '\\n')\n",
    "\n",
    "\n",
    "# rfe\n",
    "allMetricsRFC2 = list()\n",
    "acc_RFC2 = list()\n",
    "for i in range(0, 48):\n",
    "    k = seleciona_variaveis_RFE_Metrics(RFC, df, 48-i)\n",
    "    allMetricsRFC2.append(k);\n",
    "    acc_RFC2.append(allMetricsRFC2[i][0])\n",
    "    \n",
    "allMetricsTree2 = list()\n",
    "acc_Tree2 = list()\n",
    "for i in range(0, 48):\n",
    "    k = seleciona_variaveis_RFE_Metrics(tree, df, 48-i)\n",
    "    allMetricsTree2.append(k);\n",
    "    acc_Tree2.append(allMetricsTree2[i][0])\n",
    "    \n",
    "allMetricsSVM2 = list()\n",
    "acc_SVM2 = list()\n",
    "for i in range(0, 48):\n",
    "    k = seleciona_variaveis_RFE_Metrics(SVM, df, 48-i)\n",
    "    allMetricsSVM2.append(k);\n",
    "    acc_SVM2.append(allMetricsSVM2[i][0])\n",
    "\n",
    "plotGrafico(acc_RFC2, acc_Tree2, acc_SVM2, 'GraficoRFE.png')\n",
    "\n",
    "rfc2 = open('rfcrfe.txt', w)\n",
    "for e in allMetricsRFC2:\n",
    "    rfc2.write(str(e) + '\\n')\n",
    "    \n",
    "tree2 = open('treerfe.txt', w)\n",
    "for e in allMetricsTree2:\n",
    "    tree2.write(str(e) + '\\n')\n",
    "    \n",
    "svm2 = open('svmrfe.txt', w)\n",
    "for e in allMetricsSVM2:\n",
    "    svm2.write(str(e) + '\\n')\n",
    "\n",
    "# rank por random forest\n",
    "rankListImportanceRFC3 = treeListSelect(df)\n",
    "allMetricsRFC3, acc_RFC3 = avaliaModelLista(rankListImportanceRFC, RFC, df)\n",
    "allMetricsTree3, acc_Tree3 = avaliaModelLista(rankListImportanceRFC, tree, df)\n",
    "allMetricsSVM3, acc_SVM3 = avaliaModelLista(rankListImportanceRFC, SVM, df)\n",
    "\n",
    "plotGrafico(acc_RFC3, acc_Tree3, acc_SVM3, 'GraficoRFCSelect.png')\n",
    "\n",
    "\n",
    "rfc3 = open('rfcES.txt', w)\n",
    "for e in allMetricsRFC3:\n",
    "    rfc3.write(str(e) + '\\n')\n",
    "    \n",
    "tree3 = open('treeES.txt', w)\n",
    "for e in allMetricsTree3:\n",
    "    tree3.write(str(e) + '\\n')\n",
    "    \n",
    "svm3 = open('svmES.txt', w)\n",
    "for e in allMetricsSVM3:\n",
    "    svm3.write(str(e) + '\\n')\n",
    "\n"
   ]
  }
 ],
 "metadata": {
  "kernelspec": {
   "display_name": "Python 3",
   "language": "python",
   "name": "python3"
  },
  "language_info": {
   "codemirror_mode": {
    "name": "ipython",
    "version": 3
   },
   "file_extension": ".py",
   "mimetype": "text/x-python",
   "name": "python",
   "nbconvert_exporter": "python",
   "pygments_lexer": "ipython3",
   "version": "3.7.3"
  }
 },
 "nbformat": 4,
 "nbformat_minor": 2
}
